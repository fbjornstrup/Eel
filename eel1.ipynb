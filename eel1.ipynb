import folium
from folium.plugins import MarkerCluster
folium.Map([37.773972, -122.431297], zoom_start=13)
